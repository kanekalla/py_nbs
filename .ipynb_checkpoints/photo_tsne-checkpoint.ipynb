{
 "cells": [
  {
   "cell_type": "code",
   "execution_count": 3,
   "metadata": {
    "collapsed": false
   },
   "outputs": [
    {
     "name": "stdout",
     "output_type": "stream",
     "text": [
      "Populating the interactive namespace from numpy and matplotlib\n"
     ]
    }
   ],
   "source": [
    "%pylab inline"
   ]
  },
  {
   "cell_type": "code",
   "execution_count": 5,
   "metadata": {
    "collapsed": false
   },
   "outputs": [],
   "source": [
    "from sklearn.manifold import TSNE"
   ]
  },
  {
   "cell_type": "code",
   "execution_count": 9,
   "metadata": {
    "collapsed": false
   },
   "outputs": [],
   "source": [
    "from __future__ import division"
   ]
  },
  {
   "cell_type": "code",
   "execution_count": 10,
   "metadata": {
    "collapsed": true
   },
   "outputs": [],
   "source": [
    "import scipy.io as sio\n",
    "import numpy as np\n",
    "import matplotlib.pyplot as plt"
   ]
  },
  {
   "cell_type": "code",
   "execution_count": 11,
   "metadata": {
    "collapsed": true
   },
   "outputs": [],
   "source": [
    "# load the tsne points\n",
    "data = sio.loadmat('./imagenet_val_embed.mat')\n"
   ]
  },
  {
   "cell_type": "code",
   "execution_count": 16,
   "metadata": {
    "collapsed": false
   },
   "outputs": [],
   "source": [
    "# set min point to 0 and scale\n",
    "x = data['x'] - np.min(data['x'])\n",
    "x = x / np.max(x)"
   ]
  },
  {
   "cell_type": "code",
   "execution_count": 17,
   "metadata": {
    "collapsed": true
   },
   "outputs": [],
   "source": [
    "# create embedding image\n",
    "S = 2000  # size of full embedding image\n",
    "G = np.zeros((S, S, 3), dtype=np.uint8)\n",
    "s = 50  # size of single image"
   ]
  },
  {
   "cell_type": "code",
   "execution_count": 18,
   "metadata": {
    "collapsed": false
   },
   "outputs": [
    {
     "ename": "FileNotFoundError",
     "evalue": "[Errno 2] No such file or directory: './val_imgs_med2.txt'",
     "output_type": "error",
     "traceback": [
      "\u001b[0;31m---------------------------------------------------------------------------\u001b[0m",
      "\u001b[0;31mFileNotFoundError\u001b[0m                         Traceback (most recent call last)",
      "\u001b[0;32m<ipython-input-18-78ff288d8b32>\u001b[0m in \u001b[0;36m<module>\u001b[0;34m()\u001b[0m\n\u001b[0;32m----> 1\u001b[0;31m \u001b[0;32mwith\u001b[0m \u001b[0mopen\u001b[0m\u001b[0;34m(\u001b[0m\u001b[0;34m'./val_imgs_med2.txt'\u001b[0m\u001b[0;34m)\u001b[0m \u001b[0;32mas\u001b[0m \u001b[0mf\u001b[0m\u001b[0;34m:\u001b[0m\u001b[0;34m\u001b[0m\u001b[0m\n\u001b[0m\u001b[1;32m      2\u001b[0m         \u001b[0;32mfor\u001b[0m \u001b[0mi\u001b[0m\u001b[0;34m,\u001b[0m \u001b[0mfs\u001b[0m \u001b[0;32min\u001b[0m \u001b[0menumerate\u001b[0m\u001b[0;34m(\u001b[0m\u001b[0mf\u001b[0m\u001b[0;34m)\u001b[0m\u001b[0;34m:\u001b[0m\u001b[0;34m\u001b[0m\u001b[0m\n\u001b[1;32m      3\u001b[0m                 \u001b[0;32mif\u001b[0m \u001b[0mnp\u001b[0m\u001b[0;34m.\u001b[0m\u001b[0mmod\u001b[0m\u001b[0;34m(\u001b[0m\u001b[0mi\u001b[0m\u001b[0;34m,\u001b[0m \u001b[0;36m100\u001b[0m\u001b[0;34m)\u001b[0m \u001b[0;34m==\u001b[0m \u001b[0;36m0\u001b[0m\u001b[0;34m:\u001b[0m\u001b[0;34m\u001b[0m\u001b[0m\n\u001b[1;32m      4\u001b[0m                         \u001b[0mprint\u001b[0m\u001b[0;34m(\u001b[0m\u001b[0;34m'%d/%s...\\n'\u001b[0m\u001b[0;34m)\u001b[0m \u001b[0;34m%\u001b[0m \u001b[0;34m(\u001b[0m\u001b[0mi\u001b[0m\u001b[0;34m,\u001b[0m \u001b[0mstr\u001b[0m\u001b[0;34m.\u001b[0m\u001b[0msplit\u001b[0m\u001b[0;34m(\u001b[0m\u001b[0mfs\u001b[0m\u001b[0;34m,\u001b[0m \u001b[0;34m'/'\u001b[0m\u001b[0;34m)\u001b[0m\u001b[0;34m[\u001b[0m\u001b[0;36m2\u001b[0m\u001b[0;34m]\u001b[0m\u001b[0;34m)\u001b[0m\u001b[0;34m\u001b[0m\u001b[0m\n\u001b[1;32m      5\u001b[0m \u001b[0;34m\u001b[0m\u001b[0m\n",
      "\u001b[0;31mFileNotFoundError\u001b[0m: [Errno 2] No such file or directory: './val_imgs_med2.txt'"
     ]
    }
   ],
   "source": [
    "with open('./val_imgs_med2.txt') as f:\n",
    "\tfor i, fs in enumerate(f):\n",
    "\t\tif np.mod(i, 100) == 0:\n",
    "\t\t\tprint('%d/%s...\\n') % (i, str.split(fs, '/')[2])\n",
    "\n",
    "\t\t# set location\n",
    "\t\ta = np.ceil(x[i, 0] * (S-s-1)+1)\n",
    "\t\tb = np.ceil(x[i, 1] * (S-s-1)+1)\n",
    "\t\ta = a - np.mod(a-1,s) + 1\n",
    "\t\tb = b - np.mod(b-1,s) + 1\n",
    "\t\tif G[a,b,0] != 0:\n",
    "\t\t    continue\n",
    "\n",
    "\t\tI = plt.imread(fs.rstrip())\n",
    "\n",
    "\t\tG[a:a+s, b:b+s,:] = I\n",
    "\t    \n",
    "plt.imshow(G)\n",
    "plt.show()"
   ]
  },
  {
   "cell_type": "code",
   "execution_count": 27,
   "metadata": {
    "collapsed": false
   },
   "outputs": [
    {
     "data": {
      "text/plain": [
       "['/Users/kra804/Downloads/friday_downtown20170217/IMG_2728.JPG',\n",
       " '/Users/kra804/Downloads/friday_downtown20170217/IMG_2729.JPG',\n",
       " '/Users/kra804/Downloads/friday_downtown20170217/IMG_2730.JPG',\n",
       " '/Users/kra804/Downloads/friday_downtown20170217/IMG_2731.JPG',\n",
       " '/Users/kra804/Downloads/friday_downtown20170217/IMG_2732.JPG',\n",
       " '/Users/kra804/Downloads/friday_downtown20170217/IMG_2733.JPG',\n",
       " '/Users/kra804/Downloads/friday_downtown20170217/IMG_2734.JPG',\n",
       " '/Users/kra804/Downloads/friday_downtown20170217/IMG_2735.JPG',\n",
       " '/Users/kra804/Downloads/friday_downtown20170217/IMG_2736.JPG',\n",
       " '/Users/kra804/Downloads/friday_downtown20170217/IMG_2737.JPG',\n",
       " '/Users/kra804/Downloads/friday_downtown20170217/IMG_2738.JPG',\n",
       " '/Users/kra804/Downloads/friday_downtown20170217/IMG_2739.JPG',\n",
       " '/Users/kra804/Downloads/friday_downtown20170217/IMG_2743.JPG',\n",
       " '/Users/kra804/Downloads/friday_downtown20170217/IMG_2749.JPG',\n",
       " '/Users/kra804/Downloads/friday_downtown20170217/IMG_2750.JPG',\n",
       " '/Users/kra804/Downloads/friday_downtown20170217/IMG_2752.JPG',\n",
       " '/Users/kra804/Downloads/friday_downtown20170217/IMG_2756.JPG',\n",
       " '/Users/kra804/Downloads/friday_downtown20170217/IMG_2757.JPG',\n",
       " '/Users/kra804/Downloads/friday_downtown20170217/IMG_2758.JPG',\n",
       " '/Users/kra804/Downloads/friday_downtown20170217/IMG_2759.JPG',\n",
       " '/Users/kra804/Downloads/friday_downtown20170217/IMG_2760.JPG',\n",
       " '/Users/kra804/Downloads/friday_downtown20170217/IMG_2761.JPG',\n",
       " '/Users/kra804/Downloads/friday_downtown20170217/IMG_2762.JPG',\n",
       " '/Users/kra804/Downloads/friday_downtown20170217/IMG_2763.JPG',\n",
       " '/Users/kra804/Downloads/friday_downtown20170217/IMG_2764.JPG',\n",
       " '/Users/kra804/Downloads/friday_downtown20170217/IMG_2765.JPG',\n",
       " '/Users/kra804/Downloads/friday_downtown20170217/IMG_2766.JPG',\n",
       " '/Users/kra804/Downloads/friday_downtown20170217/IMG_2767.JPG',\n",
       " '/Users/kra804/Downloads/friday_downtown20170217/IMG_2768.JPG',\n",
       " '/Users/kra804/Downloads/friday_downtown20170217/IMG_2769.JPG',\n",
       " '/Users/kra804/Downloads/friday_downtown20170217/IMG_2770.JPG',\n",
       " '/Users/kra804/Downloads/friday_downtown20170217/IMG_2771.JPG',\n",
       " '/Users/kra804/Downloads/friday_downtown20170217/IMG_2772.JPG',\n",
       " '/Users/kra804/Downloads/friday_downtown20170217/IMG_2773.JPG',\n",
       " '/Users/kra804/Downloads/friday_downtown20170217/IMG_2778.JPG',\n",
       " '/Users/kra804/Downloads/friday_downtown20170217/IMG_2779.JPG',\n",
       " '/Users/kra804/Downloads/friday_downtown20170217/IMG_2780.JPG']"
      ]
     },
     "execution_count": 27,
     "metadata": {},
     "output_type": "execute_result"
    }
   ],
   "source": [
    "import os\n",
    "import json\n",
    "import fnmatch\n",
    "import itertools\n",
    "\n",
    "def image_search(dir):\n",
    "\n",
    "    all_images = []\n",
    "    extensions = ['*.tif', '*.png', '*.jpg']\n",
    "    for dirpath, dirnames, filenames in os.walk(dir):\n",
    "    \n",
    "        # construct relative file paths\n",
    "        filepaths = [os.path.join(dirpath, filename) for filename in filenames]\n",
    "    \n",
    "    return filepaths\n",
    "\n",
    "image_search(\"/Users/kra804/Downloads/friday_downtown20170217/\")\n",
    "\n",
    "\n",
    "\n",
    "\n"
   ]
  },
  {
   "cell_type": "code",
   "execution_count": 21,
   "metadata": {
    "collapsed": false
   },
   "outputs": [
    {
     "ename": "TypeError",
     "evalue": "image_search() missing 1 required positional argument: 'images_jsonfile'",
     "output_type": "error",
     "traceback": [
      "\u001b[0;31m---------------------------------------------------------------------------\u001b[0m",
      "\u001b[0;31mTypeError\u001b[0m                                 Traceback (most recent call last)",
      "\u001b[0;32m<ipython-input-21-306f61110580>\u001b[0m in \u001b[0;36m<module>\u001b[0;34m()\u001b[0m\n\u001b[0;32m----> 1\u001b[0;31m \u001b[0mimage_search\u001b[0m\u001b[0;34m(\u001b[0m\u001b[0;34m\"/Users/kra804/Downloads\"\u001b[0m\u001b[0;34m)\u001b[0m\u001b[0;34m\u001b[0m\u001b[0m\n\u001b[0m",
      "\u001b[0;31mTypeError\u001b[0m: image_search() missing 1 required positional argument: 'images_jsonfile'"
     ]
    }
   ],
   "source": [
    "#import csv\n",
    "#import os.path\n",
    "\n",
    "# You already have a list of absolute paths\n",
    "#files = [\"/tmp/999/123.tif\"]\n",
    "\n",
    "# csv writer\n",
    "#with open('/tmp/out.csv', 'wb') as out_file:\n",
    "#    csv_writer = csv.writer(out_file, delimiter=',')\n",
    "#    csv_writer.writerow(('DirName','Filename'))\n",
    "#    for f in files:\n",
    "#        csv_writer.writerow((os.path.basename(os.path.dirname(f)), \n",
    "#                             os.path.basename(f)))"
   ]
  },
  {
   "cell_type": "code",
   "execution_count": null,
   "metadata": {
    "collapsed": true
   },
   "outputs": [],
   "source": []
  }
 ],
 "metadata": {
  "kernelspec": {
   "display_name": "Python 3",
   "language": "python",
   "name": "python3"
  },
  "language_info": {
   "codemirror_mode": {
    "name": "ipython",
    "version": 3
   },
   "file_extension": ".py",
   "mimetype": "text/x-python",
   "name": "python",
   "nbconvert_exporter": "python",
   "pygments_lexer": "ipython3",
   "version": "3.5.2"
  }
 },
 "nbformat": 4,
 "nbformat_minor": 2
}
