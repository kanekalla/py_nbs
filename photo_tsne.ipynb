{
 "cells": [
  {
   "cell_type": "code",
   "execution_count": 3,
   "metadata": {
    "collapsed": false
   },
   "outputs": [
    {
     "name": "stdout",
     "output_type": "stream",
     "text": [
      "Populating the interactive namespace from numpy and matplotlib\n"
     ]
    }
   ],
   "source": [
    "%pylab inline"
   ]
  },
  {
   "cell_type": "code",
   "execution_count": 5,
   "metadata": {
    "collapsed": false
   },
   "outputs": [],
   "source": [
    "from sklearn.manifold import TSNE"
   ]
  },
  {
   "cell_type": "code",
   "execution_count": 9,
   "metadata": {
    "collapsed": false
   },
   "outputs": [],
   "source": [
    "from __future__ import division"
   ]
  },
  {
   "cell_type": "code",
   "execution_count": 10,
   "metadata": {
    "collapsed": true
   },
   "outputs": [],
   "source": [
    "import scipy.io as sio\n",
    "import numpy as np\n",
    "import matplotlib.pyplot as plt"
   ]
  },
  {
   "cell_type": "code",
   "execution_count": 11,
   "metadata": {
    "collapsed": true
   },
   "outputs": [],
   "source": [
    "# load the tsne points\n",
    "data = sio.loadmat('./imagenet_val_embed.mat')\n"
   ]
  },
  {
   "cell_type": "code",
   "execution_count": 16,
   "metadata": {
    "collapsed": false
   },
   "outputs": [],
   "source": [
    "# set min point to 0 and scale\n",
    "x = data['x'] - np.min(data['x'])\n",
    "x = x / np.max(x)"
   ]
  },
  {
   "cell_type": "code",
   "execution_count": 17,
   "metadata": {
    "collapsed": true
   },
   "outputs": [],
   "source": [
    "# create embedding image\n",
    "S = 2000  # size of full embedding image\n",
    "G = np.zeros((S, S, 3), dtype=np.uint8)\n",
    "s = 50  # size of single image"
   ]
  },
  {
   "cell_type": "code",
   "execution_count": 27,
   "metadata": {
    "collapsed": false
   },
   "outputs": [
    {
     "data": {
      "text/plain": [
       "['/Users/kra804/Downloads/friday_downtown20170217/IMG_2728.JPG',\n",
       " '/Users/kra804/Downloads/friday_downtown20170217/IMG_2729.JPG',\n",
       " '/Users/kra804/Downloads/friday_downtown20170217/IMG_2730.JPG',\n",
       " '/Users/kra804/Downloads/friday_downtown20170217/IMG_2731.JPG',\n",
       " '/Users/kra804/Downloads/friday_downtown20170217/IMG_2732.JPG',\n",
       " '/Users/kra804/Downloads/friday_downtown20170217/IMG_2733.JPG',\n",
       " '/Users/kra804/Downloads/friday_downtown20170217/IMG_2734.JPG',\n",
       " '/Users/kra804/Downloads/friday_downtown20170217/IMG_2735.JPG',\n",
       " '/Users/kra804/Downloads/friday_downtown20170217/IMG_2736.JPG',\n",
       " '/Users/kra804/Downloads/friday_downtown20170217/IMG_2737.JPG',\n",
       " '/Users/kra804/Downloads/friday_downtown20170217/IMG_2738.JPG',\n",
       " '/Users/kra804/Downloads/friday_downtown20170217/IMG_2739.JPG',\n",
       " '/Users/kra804/Downloads/friday_downtown20170217/IMG_2743.JPG',\n",
       " '/Users/kra804/Downloads/friday_downtown20170217/IMG_2749.JPG',\n",
       " '/Users/kra804/Downloads/friday_downtown20170217/IMG_2750.JPG',\n",
       " '/Users/kra804/Downloads/friday_downtown20170217/IMG_2752.JPG',\n",
       " '/Users/kra804/Downloads/friday_downtown20170217/IMG_2756.JPG',\n",
       " '/Users/kra804/Downloads/friday_downtown20170217/IMG_2757.JPG',\n",
       " '/Users/kra804/Downloads/friday_downtown20170217/IMG_2758.JPG',\n",
       " '/Users/kra804/Downloads/friday_downtown20170217/IMG_2759.JPG',\n",
       " '/Users/kra804/Downloads/friday_downtown20170217/IMG_2760.JPG',\n",
       " '/Users/kra804/Downloads/friday_downtown20170217/IMG_2761.JPG',\n",
       " '/Users/kra804/Downloads/friday_downtown20170217/IMG_2762.JPG',\n",
       " '/Users/kra804/Downloads/friday_downtown20170217/IMG_2763.JPG',\n",
       " '/Users/kra804/Downloads/friday_downtown20170217/IMG_2764.JPG',\n",
       " '/Users/kra804/Downloads/friday_downtown20170217/IMG_2765.JPG',\n",
       " '/Users/kra804/Downloads/friday_downtown20170217/IMG_2766.JPG',\n",
       " '/Users/kra804/Downloads/friday_downtown20170217/IMG_2767.JPG',\n",
       " '/Users/kra804/Downloads/friday_downtown20170217/IMG_2768.JPG',\n",
       " '/Users/kra804/Downloads/friday_downtown20170217/IMG_2769.JPG',\n",
       " '/Users/kra804/Downloads/friday_downtown20170217/IMG_2770.JPG',\n",
       " '/Users/kra804/Downloads/friday_downtown20170217/IMG_2771.JPG',\n",
       " '/Users/kra804/Downloads/friday_downtown20170217/IMG_2772.JPG',\n",
       " '/Users/kra804/Downloads/friday_downtown20170217/IMG_2773.JPG',\n",
       " '/Users/kra804/Downloads/friday_downtown20170217/IMG_2778.JPG',\n",
       " '/Users/kra804/Downloads/friday_downtown20170217/IMG_2779.JPG',\n",
       " '/Users/kra804/Downloads/friday_downtown20170217/IMG_2780.JPG']"
      ]
     },
     "execution_count": 27,
     "metadata": {},
     "output_type": "execute_result"
    }
   ],
   "source": [
    "import os\n",
    "import json\n",
    "import fnmatch\n",
    "import itertools\n",
    "\n",
    "def image_search(dir):\n",
    "\n",
    "    all_images = []\n",
    "    extensions = ['*.tif', '*.png', '*.jpg']\n",
    "    for dirpath, dirnames, filenames in os.walk(dir):\n",
    "    \n",
    "        # construct relative file paths\n",
    "        filepaths = [os.path.join(dirpath, filename) for filename in filenames]\n",
    "    \n",
    "    return filepaths\n",
    "\n",
    "image_search(\"/Users/kra804/Downloads/friday_downtown20170217/\")\n",
    "\n",
    "\n",
    "\n",
    "\n"
   ]
  },
  {
   "cell_type": "code",
   "execution_count": 36,
   "metadata": {
    "collapsed": false
   },
   "outputs": [
    {
     "name": "stdout",
     "output_type": "stream",
     "text": [
      "I am missing here \n"
     ]
    },
    {
     "name": "stderr",
     "output_type": "stream",
     "text": [
      "/Library/Frameworks/Python.framework/Versions/3.5/lib/python3.5/site-packages/ipykernel/__main__.py:11: VisibleDeprecationWarning: using a non-integer number instead of an integer will result in an error in the future\n",
      "/Library/Frameworks/Python.framework/Versions/3.5/lib/python3.5/site-packages/ipykernel/__main__.py:14: VisibleDeprecationWarning: using a non-integer number instead of an integer will result in an error in the future\n"
     ]
    },
    {
     "ename": "ValueError",
     "evalue": "could not broadcast input array from shape (3024,4032,3) into shape (50,50,3)",
     "output_type": "error",
     "traceback": [
      "\u001b[0;31m---------------------------------------------------------------------------\u001b[0m",
      "\u001b[0;31mValueError\u001b[0m                                Traceback (most recent call last)",
      "\u001b[0;32m<ipython-input-36-1d1993576a80>\u001b[0m in \u001b[0;36m<module>\u001b[0;34m()\u001b[0m\n\u001b[1;32m     12\u001b[0m                 \u001b[0;32mcontinue\u001b[0m\u001b[0;34m\u001b[0m\u001b[0m\n\u001b[1;32m     13\u001b[0m             \u001b[0mI\u001b[0m \u001b[0;34m=\u001b[0m \u001b[0mplt\u001b[0m\u001b[0;34m.\u001b[0m\u001b[0mimread\u001b[0m\u001b[0;34m(\u001b[0m\u001b[0mfs\u001b[0m\u001b[0;34m.\u001b[0m\u001b[0mrstrip\u001b[0m\u001b[0;34m(\u001b[0m\u001b[0;34m)\u001b[0m\u001b[0;34m)\u001b[0m\u001b[0;34m\u001b[0m\u001b[0m\n\u001b[0;32m---> 14\u001b[0;31m             \u001b[0mG\u001b[0m\u001b[0;34m[\u001b[0m\u001b[0ma\u001b[0m\u001b[0;34m:\u001b[0m\u001b[0ma\u001b[0m\u001b[0;34m+\u001b[0m\u001b[0ms\u001b[0m\u001b[0;34m,\u001b[0m \u001b[0mb\u001b[0m\u001b[0;34m:\u001b[0m\u001b[0mb\u001b[0m\u001b[0;34m+\u001b[0m\u001b[0ms\u001b[0m\u001b[0;34m,\u001b[0m\u001b[0;34m:\u001b[0m\u001b[0;34m]\u001b[0m \u001b[0;34m=\u001b[0m \u001b[0mI\u001b[0m\u001b[0;34m\u001b[0m\u001b[0m\n\u001b[0m\u001b[1;32m     15\u001b[0m \u001b[0mplt\u001b[0m\u001b[0;34m.\u001b[0m\u001b[0mimshow\u001b[0m\u001b[0;34m(\u001b[0m\u001b[0mG\u001b[0m\u001b[0;34m)\u001b[0m\u001b[0;34m\u001b[0m\u001b[0m\n\u001b[1;32m     16\u001b[0m \u001b[0mplt\u001b[0m\u001b[0;34m.\u001b[0m\u001b[0mshow\u001b[0m\u001b[0;34m(\u001b[0m\u001b[0;34m)\u001b[0m\u001b[0;34m\u001b[0m\u001b[0m\n",
      "\u001b[0;31mValueError\u001b[0m: could not broadcast input array from shape (3024,4032,3) into shape (50,50,3)"
     ]
    }
   ],
   "source": [
    "with open('./val_imgs_med.txt') as f:\n",
    "    for i, fs in enumerate(f):\n",
    "        if np.mod(i,100) == 0:\n",
    "            #print('%d/%s...\\n') % (i, str.split(fs, '/')[1])\n",
    "            # set location\n",
    "            print(\"I am missing here \")\n",
    "            a = np.ceil(x[i, 0] * (S-s-1)+1)\n",
    "            b = np.ceil(x[i, 1] * (S-s-1)+1)\n",
    "            a = a - np.mod(a-1,s) + 1\n",
    "            b = b - np.mod(b-1,s) + 1\n",
    "            if G[a,b,0] != 0:\n",
    "                continue\n",
    "            I = plt.imread(fs.rstrip())\n",
    "            G[a:a+s, b:b+s,:] = I\n",
    "plt.imshow(G)\n",
    "plt.show()\n",
    "            "
   ]
  },
  {
   "cell_type": "code",
   "execution_count": 38,
   "metadata": {
    "collapsed": false
   },
   "outputs": [
    {
     "ename": "ImportError",
     "evalue": "No module named 'keras'",
     "output_type": "error",
     "traceback": [
      "\u001b[0;31m---------------------------------------------------------------------------\u001b[0m",
      "\u001b[0;31mImportError\u001b[0m                               Traceback (most recent call last)",
      "\u001b[0;32m<ipython-input-38-439013142aa0>\u001b[0m in \u001b[0;36m<module>\u001b[0;34m()\u001b[0m\n\u001b[1;32m      5\u001b[0m \u001b[0;32mfrom\u001b[0m \u001b[0mPIL\u001b[0m \u001b[0;32mimport\u001b[0m \u001b[0mImage\u001b[0m\u001b[0;34m\u001b[0m\u001b[0m\n\u001b[1;32m      6\u001b[0m \u001b[0;34m\u001b[0m\u001b[0m\n\u001b[0;32m----> 7\u001b[0;31m \u001b[0;32mfrom\u001b[0m \u001b[0mkeras\u001b[0m\u001b[0;34m.\u001b[0m\u001b[0mmodels\u001b[0m \u001b[0;32mimport\u001b[0m \u001b[0mSequential\u001b[0m\u001b[0;34m\u001b[0m\u001b[0m\n\u001b[0m\u001b[1;32m      8\u001b[0m \u001b[0;32mfrom\u001b[0m \u001b[0mkeras\u001b[0m\u001b[0;34m.\u001b[0m\u001b[0mlayers\u001b[0m\u001b[0;34m.\u001b[0m\u001b[0mcore\u001b[0m \u001b[0;32mimport\u001b[0m \u001b[0mFlatten\u001b[0m\u001b[0;34m,\u001b[0m \u001b[0mDense\u001b[0m\u001b[0;34m,\u001b[0m \u001b[0mDropout\u001b[0m\u001b[0;34m\u001b[0m\u001b[0m\n\u001b[1;32m      9\u001b[0m \u001b[0;32mfrom\u001b[0m \u001b[0mkeras\u001b[0m\u001b[0;34m.\u001b[0m\u001b[0mlayers\u001b[0m \u001b[0;32mimport\u001b[0m \u001b[0mConvolution2D\u001b[0m\u001b[0;34m,\u001b[0m \u001b[0mZeroPadding2D\u001b[0m\u001b[0;34m,\u001b[0m \u001b[0mMaxPooling2D\u001b[0m\u001b[0;34m\u001b[0m\u001b[0m\n",
      "\u001b[0;31mImportError\u001b[0m: No module named 'keras'"
     ]
    }
   ],
   "source": [
    "import numpy as np\n",
    "from os import listdir\n",
    "from os.path import isfile, join\n",
    "import h5py\n",
    "from PIL import Image\n",
    "\n",
    "from keras.models import Sequential\n",
    "from keras.layers.core import Flatten, Dense, Dropout\n",
    "from keras.layers import Convolution2D, ZeroPadding2D, MaxPooling2D\n",
    "from keras.optimizers import SGD\n",
    "\n",
    "from sklearn.manifold import TSNE\n",
    "\n",
    "\n",
    "def get_image(path, w, h):\n",
    "\timg = Image.open(path)\n",
    "\tif img.mode == 'L' or img.mode == 'RGBA':\n",
    "\t\timg = img.convert('RGB')\n",
    "\timg = img.resize((w, h), Image.ANTIALIAS)\n",
    "\tim2 = np.array(img.getdata(), np.uint8)\n",
    "\tim3 = np.array(img.getdata(), np.uint8)\n",
    "\tim2[:,0] = im3[:,2]\n",
    "\tim2[:,2] = im3[:,0]\n",
    "\tim2 = im2.reshape(img.size[1], img.size[0], 3).astype(np.float32)\n",
    "\tim2[:,:,0] -= 103.939\n",
    "\tim2[:,:,1] -= 116.779\n",
    "\tim2[:,:,2] -= 123.68\n",
    "\tim2 = im2.transpose((2,0,1))\n",
    "\tim2 = np.expand_dims(im2, axis=0)\n",
    "\treturn im2\n",
    "\n",
    "\n",
    "def VGG_16():\n",
    "    model = Sequential()\n",
    "    model.add(ZeroPadding2D((1,1),input_shape=(3,224,224)))\n",
    "    model.add(Convolution2D(64, 3, 3, activation='relu'))\n",
    "    model.add(ZeroPadding2D((1,1)))\n",
    "    model.add(Convolution2D(64, 3, 3, activation='relu'))\n",
    "    model.add(MaxPooling2D((2,2), strides=(2,2)))\n",
    "    model.add(ZeroPadding2D((1,1)))\n",
    "    model.add(Convolution2D(128, 3, 3, activation='relu'))\n",
    "    model.add(ZeroPadding2D((1,1)))\n",
    "    model.add(Convolution2D(128, 3, 3, activation='relu'))\n",
    "    model.add(MaxPooling2D((2,2), strides=(2,2)))\n",
    "    model.add(ZeroPadding2D((1,1)))\n",
    "    model.add(Convolution2D(256, 3, 3, activation='relu'))\n",
    "    model.add(ZeroPadding2D((1,1)))\n",
    "    model.add(Convolution2D(256, 3, 3, activation='relu'))\n",
    "    model.add(ZeroPadding2D((1,1)))\n",
    "    model.add(Convolution2D(256, 3, 3, activation='relu'))\n",
    "    model.add(MaxPooling2D((2,2), strides=(2,2)))\n",
    "    model.add(ZeroPadding2D((1,1)))\n",
    "    model.add(Convolution2D(512, 3, 3, activation='relu'))\n",
    "    model.add(ZeroPadding2D((1,1)))\n",
    "    model.add(Convolution2D(512, 3, 3, activation='relu'))\n",
    "    model.add(ZeroPadding2D((1,1)))\n",
    "    model.add(Convolution2D(512, 3, 3, activation='relu'))\n",
    "    model.add(MaxPooling2D((2,2), strides=(2,2)))\n",
    "    model.add(ZeroPadding2D((1,1)))\n",
    "    model.add(Convolution2D(512, 3, 3, activation='relu'))\n",
    "    model.add(ZeroPadding2D((1,1)))\n",
    "    model.add(Convolution2D(512, 3, 3, activation='relu'))\n",
    "    model.add(ZeroPadding2D((1,1)))\n",
    "    model.add(Convolution2D(512, 3, 3, activation='relu'))\n",
    "    model.add(MaxPooling2D((2,2), strides=(2,2)))\n",
    "    model.add(Flatten())\n",
    "    model.add(Dense(4096, activation='relu'))\n",
    "    model.add(Dropout(0.5))\n",
    "    model.add(Dense(4096, activation='relu'))\n",
    "\t#model.add(Dropout(0.5))\n",
    "\t#model.add(Dense(1000, activation='softmax'))\n",
    "\t#if weights_path:\n",
    "\t#\tmodel.load_weights(weights_path)\n",
    "    return model\n",
    "\n",
    "\n",
    "def load_weights(model_, weights_path):\n",
    "\tf = h5py.File(weights_path)\n",
    "\tfor k in range(f.attrs['nb_layers']):\n",
    "\t\tif k >= len(model_.layers):\n",
    "\t\t\tbreak\n",
    "\t\tg = f['layer_{}'.format(k)]\n",
    "\t\tweights = [g['param_{}'.format(p)] for p in range(g.attrs['nb_params'])]\n",
    "\t\tmodel_.layers[k].set_weights(weights)"
   ]
  },
  {
   "cell_type": "code",
   "execution_count": null,
   "metadata": {
    "collapsed": true
   },
   "outputs": [],
   "source": []
  }
 ],
 "metadata": {
  "kernelspec": {
   "display_name": "Python 3",
   "language": "python",
   "name": "python3"
  },
  "language_info": {
   "codemirror_mode": {
    "name": "ipython",
    "version": 3
   },
   "file_extension": ".py",
   "mimetype": "text/x-python",
   "name": "python",
   "nbconvert_exporter": "python",
   "pygments_lexer": "ipython3",
   "version": "3.5.2"
  }
 },
 "nbformat": 4,
 "nbformat_minor": 2
}
