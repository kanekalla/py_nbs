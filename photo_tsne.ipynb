{
 "cells": [
  {
   "cell_type": "code",
   "execution_count": 3,
   "metadata": {
    "collapsed": false
   },
   "outputs": [
    {
     "name": "stdout",
     "output_type": "stream",
     "text": [
      "Populating the interactive namespace from numpy and matplotlib\n"
     ]
    }
   ],
   "source": [
    "%pylab inline"
   ]
  },
  {
   "cell_type": "code",
   "execution_count": 5,
   "metadata": {
    "collapsed": false
   },
   "outputs": [],
   "source": [
    "from sklearn.manifold import TSNE"
   ]
  },
  {
   "cell_type": "code",
   "execution_count": 9,
   "metadata": {
    "collapsed": false
   },
   "outputs": [],
   "source": [
    "from __future__ import division"
   ]
  },
  {
   "cell_type": "code",
   "execution_count": 10,
   "metadata": {
    "collapsed": true
   },
   "outputs": [],
   "source": [
    "import scipy.io as sio\n",
    "import numpy as np\n",
    "import matplotlib.pyplot as plt"
   ]
  },
  {
   "cell_type": "code",
   "execution_count": 11,
   "metadata": {
    "collapsed": true
   },
   "outputs": [],
   "source": [
    "# load the tsne points\n",
    "data = sio.loadmat('./imagenet_val_embed.mat')\n"
   ]
  },
  {
   "cell_type": "code",
   "execution_count": 16,
   "metadata": {
    "collapsed": false
   },
   "outputs": [],
   "source": [
    "# set min point to 0 and scale\n",
    "x = data['x'] - np.min(data['x'])\n",
    "x = x / np.max(x)"
   ]
  },
  {
   "cell_type": "code",
   "execution_count": 17,
   "metadata": {
    "collapsed": true
   },
   "outputs": [],
   "source": [
    "# create embedding image\n",
    "S = 2000  # size of full embedding image\n",
    "G = np.zeros((S, S, 3), dtype=np.uint8)\n",
    "s = 50  # size of single image"
   ]
  },
  {
   "cell_type": "code",
   "execution_count": 27,
   "metadata": {
    "collapsed": false
   },
   "outputs": [
    {
     "data": {
      "text/plain": [
       "['/Users/kra804/Downloads/friday_downtown20170217/IMG_2728.JPG',\n",
       " '/Users/kra804/Downloads/friday_downtown20170217/IMG_2729.JPG',\n",
       " '/Users/kra804/Downloads/friday_downtown20170217/IMG_2730.JPG',\n",
       " '/Users/kra804/Downloads/friday_downtown20170217/IMG_2731.JPG',\n",
       " '/Users/kra804/Downloads/friday_downtown20170217/IMG_2732.JPG',\n",
       " '/Users/kra804/Downloads/friday_downtown20170217/IMG_2733.JPG',\n",
       " '/Users/kra804/Downloads/friday_downtown20170217/IMG_2734.JPG',\n",
       " '/Users/kra804/Downloads/friday_downtown20170217/IMG_2735.JPG',\n",
       " '/Users/kra804/Downloads/friday_downtown20170217/IMG_2736.JPG',\n",
       " '/Users/kra804/Downloads/friday_downtown20170217/IMG_2737.JPG',\n",
       " '/Users/kra804/Downloads/friday_downtown20170217/IMG_2738.JPG',\n",
       " '/Users/kra804/Downloads/friday_downtown20170217/IMG_2739.JPG',\n",
       " '/Users/kra804/Downloads/friday_downtown20170217/IMG_2743.JPG',\n",
       " '/Users/kra804/Downloads/friday_downtown20170217/IMG_2749.JPG',\n",
       " '/Users/kra804/Downloads/friday_downtown20170217/IMG_2750.JPG',\n",
       " '/Users/kra804/Downloads/friday_downtown20170217/IMG_2752.JPG',\n",
       " '/Users/kra804/Downloads/friday_downtown20170217/IMG_2756.JPG',\n",
       " '/Users/kra804/Downloads/friday_downtown20170217/IMG_2757.JPG',\n",
       " '/Users/kra804/Downloads/friday_downtown20170217/IMG_2758.JPG',\n",
       " '/Users/kra804/Downloads/friday_downtown20170217/IMG_2759.JPG',\n",
       " '/Users/kra804/Downloads/friday_downtown20170217/IMG_2760.JPG',\n",
       " '/Users/kra804/Downloads/friday_downtown20170217/IMG_2761.JPG',\n",
       " '/Users/kra804/Downloads/friday_downtown20170217/IMG_2762.JPG',\n",
       " '/Users/kra804/Downloads/friday_downtown20170217/IMG_2763.JPG',\n",
       " '/Users/kra804/Downloads/friday_downtown20170217/IMG_2764.JPG',\n",
       " '/Users/kra804/Downloads/friday_downtown20170217/IMG_2765.JPG',\n",
       " '/Users/kra804/Downloads/friday_downtown20170217/IMG_2766.JPG',\n",
       " '/Users/kra804/Downloads/friday_downtown20170217/IMG_2767.JPG',\n",
       " '/Users/kra804/Downloads/friday_downtown20170217/IMG_2768.JPG',\n",
       " '/Users/kra804/Downloads/friday_downtown20170217/IMG_2769.JPG',\n",
       " '/Users/kra804/Downloads/friday_downtown20170217/IMG_2770.JPG',\n",
       " '/Users/kra804/Downloads/friday_downtown20170217/IMG_2771.JPG',\n",
       " '/Users/kra804/Downloads/friday_downtown20170217/IMG_2772.JPG',\n",
       " '/Users/kra804/Downloads/friday_downtown20170217/IMG_2773.JPG',\n",
       " '/Users/kra804/Downloads/friday_downtown20170217/IMG_2778.JPG',\n",
       " '/Users/kra804/Downloads/friday_downtown20170217/IMG_2779.JPG',\n",
       " '/Users/kra804/Downloads/friday_downtown20170217/IMG_2780.JPG']"
      ]
     },
     "execution_count": 27,
     "metadata": {},
     "output_type": "execute_result"
    }
   ],
   "source": [
    "import os\n",
    "import json\n",
    "import fnmatch\n",
    "import itertools\n",
    "\n",
    "def image_search(dir):\n",
    "\n",
    "    all_images = []\n",
    "    extensions = ['*.tif', '*.png', '*.jpg']\n",
    "    for dirpath, dirnames, filenames in os.walk(dir):\n",
    "    \n",
    "        # construct relative file paths\n",
    "        filepaths = [os.path.join(dirpath, filename) for filename in filenames]\n",
    "    \n",
    "    return filepaths\n",
    "\n",
    "image_search(\"/Users/kra804/Downloads/friday_downtown20170217/\")\n",
    "\n",
    "\n",
    "\n",
    "\n"
   ]
  },
  {
   "cell_type": "code",
   "execution_count": 31,
   "metadata": {
    "collapsed": false
   },
   "outputs": [
    {
     "name": "stdout",
     "output_type": "stream",
     "text": [
      "%d/%s...\n",
      "\n"
     ]
    },
    {
     "name": "stderr",
     "output_type": "stream",
     "text": [
      "/Library/Frameworks/Python.framework/Versions/3.5/lib/python3.5/site-packages/ipykernel/__main__.py:10: VisibleDeprecationWarning: using a non-integer number instead of an integer will result in an error in the future\n",
      "/Library/Frameworks/Python.framework/Versions/3.5/lib/python3.5/site-packages/ipykernel/__main__.py:13: VisibleDeprecationWarning: using a non-integer number instead of an integer will result in an error in the future\n"
     ]
    },
    {
     "ename": "ValueError",
     "evalue": "could not broadcast input array from shape (3024,4032,3) into shape (50,50,3)",
     "output_type": "error",
     "traceback": [
      "\u001b[0;31m---------------------------------------------------------------------------\u001b[0m",
      "\u001b[0;31mValueError\u001b[0m                                Traceback (most recent call last)",
      "\u001b[0;32m<ipython-input-31-55cbc7e4a2b3>\u001b[0m in \u001b[0;36m<module>\u001b[0;34m()\u001b[0m\n\u001b[1;32m     11\u001b[0m                 \u001b[0;32mcontinue\u001b[0m\u001b[0;34m\u001b[0m\u001b[0m\n\u001b[1;32m     12\u001b[0m             \u001b[0mI\u001b[0m \u001b[0;34m=\u001b[0m \u001b[0mplt\u001b[0m\u001b[0;34m.\u001b[0m\u001b[0mimread\u001b[0m\u001b[0;34m(\u001b[0m\u001b[0mfs\u001b[0m\u001b[0;34m.\u001b[0m\u001b[0mrstrip\u001b[0m\u001b[0;34m(\u001b[0m\u001b[0;34m)\u001b[0m\u001b[0;34m)\u001b[0m\u001b[0;34m\u001b[0m\u001b[0m\n\u001b[0;32m---> 13\u001b[0;31m             \u001b[0mG\u001b[0m\u001b[0;34m[\u001b[0m\u001b[0ma\u001b[0m\u001b[0;34m:\u001b[0m\u001b[0ma\u001b[0m\u001b[0;34m+\u001b[0m\u001b[0ms\u001b[0m\u001b[0;34m,\u001b[0m \u001b[0mb\u001b[0m\u001b[0;34m:\u001b[0m\u001b[0mb\u001b[0m\u001b[0;34m+\u001b[0m\u001b[0ms\u001b[0m\u001b[0;34m,\u001b[0m\u001b[0;34m:\u001b[0m\u001b[0;34m]\u001b[0m \u001b[0;34m=\u001b[0m \u001b[0mI\u001b[0m\u001b[0;34m\u001b[0m\u001b[0m\n\u001b[0m\u001b[1;32m     14\u001b[0m \u001b[0mplt\u001b[0m\u001b[0;34m.\u001b[0m\u001b[0mimshow\u001b[0m\u001b[0;34m(\u001b[0m\u001b[0mG\u001b[0m\u001b[0;34m)\u001b[0m\u001b[0;34m\u001b[0m\u001b[0m\n\u001b[1;32m     15\u001b[0m \u001b[0mplt\u001b[0m\u001b[0;34m.\u001b[0m\u001b[0mshow\u001b[0m\u001b[0;34m(\u001b[0m\u001b[0;34m)\u001b[0m\u001b[0;34m\u001b[0m\u001b[0m\n",
      "\u001b[0;31mValueError\u001b[0m: could not broadcast input array from shape (3024,4032,3) into shape (50,50,3)"
     ]
    }
   ],
   "source": [
    "with open('./val_imgs_med.txt') as f:\n",
    "    for i, fs in enumerate(f):\n",
    "        if np.mod(i,100) == 0:\n",
    "            print('%d/%s...\\n')# % (i, str.split(fs, '/')[2])\n",
    "            # set location\n",
    "            a = np.ceil(x[i, 0] * (S-s-1)+1)\n",
    "            b = np.ceil(x[i, 1] * (S-s-1)+1)\n",
    "            a = a - np.mod(a-1,s) + 1\n",
    "            b = b - np.mod(b-1,s) + 1\n",
    "            if G[a,b,0] != 0:\n",
    "                continue\n",
    "            I = plt.imread(fs.rstrip())\n",
    "            G[a:a+s, b:b+s,:] = I\n",
    "plt.imshow(G)\n",
    "plt.show()\n",
    "            "
   ]
  },
  {
   "cell_type": "code",
   "execution_count": null,
   "metadata": {
    "collapsed": true
   },
   "outputs": [],
   "source": []
  }
 ],
 "metadata": {
  "kernelspec": {
   "display_name": "Python 3",
   "language": "python",
   "name": "python3"
  },
  "language_info": {
   "codemirror_mode": {
    "name": "ipython",
    "version": 3
   },
   "file_extension": ".py",
   "mimetype": "text/x-python",
   "name": "python",
   "nbconvert_exporter": "python",
   "pygments_lexer": "ipython3",
   "version": "3.5.2"
  }
 },
 "nbformat": 4,
 "nbformat_minor": 2
}
